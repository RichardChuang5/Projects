{
  "nbformat": 4,
  "nbformat_minor": 0,
  "metadata": {
    "colab": {
      "name": "Websocket Binance Python- FpRitvik.ipynb",
      "provenance": [],
      "collapsed_sections": []
    },
    "kernelspec": {
      "name": "python385jvsc74a57bd0827cf88807b883d6c5761675790e13e4fa4fc74c8d0925cc7b57ea65e415eb4c",
      "display_name": "Python 3.8.5 64-bit ('base': conda)"
    },
    "language_info": {
      "name": "python",
      "version": "3.8.5"
    }
  },
  "cells": [
    {
      "cell_type": "code",
      "metadata": {
        "colab": {
          "base_uri": "https://localhost:8080/"
        },
        "id": "DZ7j-y67RQUL",
        "outputId": "be3d2225-c854-4dc9-c803-cea99ce58fc9"
      },
      "source": [
        "'''Questions posed by the step 4 Capstone:\n",
        "1. Is the data homogeneous in each colummn?: From the information presented below, yes. We can say that each column will be indicated by a key. For example, 's' is the crypto ticker. For a full list\n",
        "    of explanations, please view the following source doc. https://docs.binance.org/api-reference/dex-api/ws-streams.html\n",
        "\n",
        "2. How do you anticipate this data will be used by data analysts and scientists downstream?: The data taken from Binance will be the baseline for creating a crypto trading bot. From an analytics perspective, there will be historical data\n",
        "    available to analyze past trends to anticipate future behaviors. Additionally, aside from a simple trading bot, there can be more complex trading methods derived such as utilzations of moving averages, volume weighted averages, momentum trading, etc.\n",
        "\n",
        "3. Does your answer to the last question give you an indication of how you can store the data for optimal querying speed and storage file compression?: Yes. As the information received is homogenous and consistent in nature, we can use use relational databases    to aid in our queries to view historical data. If there are large amounts of data that prove to be too ineffective for relational databases, we can use some type of NoSQL, most liekly JSON methods of storage. However, based on the time it takes to retrieve     data, it still might be worth it to use relational databases given that their schema lends itself nicely to the structure data is retrieved.\n",
        "\n",
        "4. What cleaning steps do you need to perform to make your dataset ready for consumption?: There is a lot of excess data that is taken from Binance. For the purposes of this project, we are only concerned with opening price, highest price, lowest price,           closing price, and overall volume. The messages received will need to reflect what we consider important with the remaining items stripped. This is easily done via the JSON message provided further below.\n",
        "\n",
        "5. What wrangling steps do you need to perform to enrich your dataset with additional information?: Most data wrangling is done based on the description and types of data retrieved outlined in the source doc: https://docs.binance.org/api-reference/dex-api/ws-streams.html. Depending on the database we choose, these may live in the column/table names, or it will be a key item of some sort.\n",
        "'''\n",
        "# We first install the websocket client that is used to interface with Binance.\n",
        "pip install websocket-client"
      ],
      "execution_count": 1,
      "outputs": [
        {
          "output_type": "stream",
          "name": "stdout",
          "text": [
            "Requirement already satisfied: websocket-client in a:\\anaconda.python\\lib\\site-packages (1.1.0)Note: you may need to restart the kernel to use updated packages.\n",
            "\n",
            "WARNING: Ignoring invalid distribution -ip (a:\\anaconda.python\\lib\\site-packages)\n",
            "WARNING: Ignoring invalid distribution -ip (a:\\anaconda.python\\lib\\site-packages)\n",
            "WARNING: Ignoring invalid distribution -ip (a:\\anaconda.python\\lib\\site-packages)\n",
            "WARNING: Ignoring invalid distribution -ip (a:\\anaconda.python\\lib\\site-packages)\n",
            "WARNING: Ignoring invalid distribution -ip (a:\\anaconda.python\\lib\\site-packages)\n",
            "WARNING: Ignoring invalid distribution -ip (a:\\anaconda.python\\lib\\site-packages)\n"
          ]
        }
      ]
    },
    {
      "cell_type": "code",
      "metadata": {
        "id": "5if0fN5hRYfO"
      },
      "source": [
        "# We will also need to import websockets and JSON.\n",
        "import websocket, json"
      ],
      "execution_count": 2,
      "outputs": []
    },
    {
      "cell_type": "code",
      "metadata": {
        "id": "NjmJvV02Rqss"
      },
      "source": [
        "# We will also look for other cryptos to include such as Ethereum: 'ethusd', Dogecoin: 'dogeusd', or any other crypto currently listed on Binance.\n",
        "# This can be formatted within the socket variable as follows: f'wss://stream.binance.com:9443/ws/'<the crypto ticker>'t@kline_'<insert your time interval here>''/'t@kline_'<insert your time interval here>'/'t@kline_'<insert your time interval here>'/etc.\n",
        "cc = 'btcusd'\n",
        "interval = '1m'\n",
        "\n",
        "socket = f'wss://stream.binance.com:9443/ws/{cc}t@kline_{interval}'"
      ],
      "execution_count": 3,
      "outputs": []
    },
    {
      "cell_type": "code",
      "metadata": {
        "colab": {
          "base_uri": "https://localhost:8080/",
          "height": 35
        },
        "id": "Cn1gAi_YSmKz",
        "outputId": "cbc03b1d-422c-432a-e3a7-124b07e10310"
      },
      "source": [
        "socket"
      ],
      "execution_count": 4,
      "outputs": [
        {
          "output_type": "execute_result",
          "data": {
            "text/plain": [
              "'wss://stream.binance.com:9443/ws/btcusdt@kline_1m'"
            ]
          },
          "metadata": {},
          "execution_count": 4
        }
      ]
    },
    {
      "cell_type": "code",
      "metadata": {
        "id": "3Nm9aNKCSoOo"
      },
      "source": [
        "def on_message(ws, message):\n",
        "    print(message)\n",
        "\n",
        "ws = websocket.WebSocketApp(socket,on_message = on_message, on_close = on_close)"
      ],
      "execution_count": 7,
      "outputs": [
        {
          "output_type": "error",
          "ename": "Error",
          "evalue": "KeyboardInterrupt",
          "traceback": [
            "Error: KeyboardInterrupt",
            "at _.parseConnectInfo (c:\\Users\\SquareBear\\.vscode\\extensions\\ms-toolsai.jupyter-2021.6.832593372\\out\\client\\extension.js:90:161384)",
            "at _.connectToLocal (c:\\Users\\SquareBear\\.vscode\\extensions\\ms-toolsai.jupyter-2021.6.832593372\\out\\client\\extension.js:90:161987)",
            "at async _.connect (c:\\Users\\SquareBear\\.vscode\\extensions\\ms-toolsai.jupyter-2021.6.832593372\\out\\client\\extension.js:90:159864)",
            "at async _.startDebugSession (c:\\Users\\SquareBear\\.vscode\\extensions\\ms-toolsai.jupyter-2021.6.832593372\\out\\client\\extension.js:90:159011)",
            "at async D.submitCode (c:\\Users\\SquareBear\\.vscode\\extensions\\ms-toolsai.jupyter-2021.6.832593372\\out\\client\\extension.js:37:622214)",
            "at async D.handleRunByLine (c:\\Users\\SquareBear\\.vscode\\extensions\\ms-toolsai.jupyter-2021.6.832593372\\out\\client\\extension.js:37:610158)"
          ]
        }
      ]
    },
    {
      "cell_type": "code",
      "metadata": {
        "colab": {
          "base_uri": "https://localhost:8080/"
        },
        "id": "m68TRIqlTITg",
        "outputId": "4d97ef31-5d57-457e-8163-d02604bf8f1e"
      },
      "source": [
        "ws.run_forever()"
      ],
      "execution_count": 8,
      "outputs": [
        {
          "output_type": "stream",
          "name": "stdout",
          "text": [
            "{\"e\":\"kline\",\"E\":1626814586584,\"s\":\"BTCUSDT\",\"k\":{\"t\":1626814560000,\"T\":1626814619999,\"s\":\"BTCUSDT\",\"i\":\"1m\",\"f\":961669270,\"L\":961669493,\"o\":\"29854.89000000\",\"c\":\"29860.75000000\",\"h\":\"29873.49000000\",\"l\":\"29854.89000000\",\"v\":\"10.67552900\",\"n\":224,\"x\":false,\"q\":\"318806.36803916\",\"V\":\"7.48510700\",\"Q\":\"223535.76500423\",\"B\":\"0\"}}\n",
            "{\"e\":\"kline\",\"E\":1626814588587,\"s\":\"BTCUSDT\",\"k\":{\"t\":1626814560000,\"T\":1626814619999,\"s\":\"BTCUSDT\",\"i\":\"1m\",\"f\":961669270,\"L\":961669505,\"o\":\"29854.89000000\",\"c\":\"29862.47000000\",\"h\":\"29873.49000000\",\"l\":\"29854.89000000\",\"v\":\"10.83146100\",\"n\":236,\"x\":false,\"q\":\"323462.87020234\",\"V\":\"7.58731800\",\"Q\":\"226588.04788503\",\"B\":\"0\"}}\n",
            "{\"e\":\"kline\",\"E\":1626814590588,\"s\":\"BTCUSDT\",\"k\":{\"t\":1626814560000,\"T\":1626814619999,\"s\":\"BTCUSDT\",\"i\":\"1m\",\"f\":961669270,\"L\":961669515,\"o\":\"29854.89000000\",\"c\":\"29862.49000000\",\"h\":\"29873.49000000\",\"l\":\"29854.89000000\",\"v\":\"10.96036300\",\"n\":246,\"x\":false,\"q\":\"327312.20383331\",\"V\":\"7.68429900\",\"Q\":\"229484.14160744\",\"B\":\"0\"}}\n",
            "{\"e\":\"kline\",\"E\":1626814593695,\"s\":\"BTCUSDT\",\"k\":{\"t\":1626814560000,\"T\":1626814619999,\"s\":\"BTCUSDT\",\"i\":\"1m\",\"f\":961669270,\"L\":961669523,\"o\":\"29854.89000000\",\"c\":\"29862.95000000\",\"h\":\"29873.49000000\",\"l\":\"29854.89000000\",\"v\":\"11.21968700\",\"n\":254,\"x\":false,\"q\":\"335056.84265967\",\"V\":\"7.84263200\",\"Q\":\"234212.93871612\",\"B\":\"0\"}}\n",
            "{\"e\":\"kline\",\"E\":1626814595778,\"s\":\"BTCUSDT\",\"k\":{\"t\":1626814560000,\"T\":1626814619999,\"s\":\"BTCUSDT\",\"i\":\"1m\",\"f\":961669270,\"L\":961669529,\"o\":\"29854.89000000\",\"c\":\"29865.00000000\",\"h\":\"29873.49000000\",\"l\":\"29854.89000000\",\"v\":\"11.33738400\",\"n\":260,\"x\":false,\"q\":\"338571.72237592\",\"V\":\"7.89561000\",\"Q\":\"235795.09269977\",\"B\":\"0\"}}\n",
            "{\"e\":\"kline\",\"E\":1626814598211,\"s\":\"BTCUSDT\",\"k\":{\"t\":1626814560000,\"T\":1626814619999,\"s\":\"BTCUSDT\",\"i\":\"1m\",\"f\":961669270,\"L\":961669541,\"o\":\"29854.89000000\",\"c\":\"29866.20000000\",\"h\":\"29873.49000000\",\"l\":\"29854.89000000\",\"v\":\"11.65876800\",\"n\":272,\"x\":false,\"q\":\"348170.37623469\",\"V\":\"8.03082700\",\"Q\":\"239833.67252446\",\"B\":\"0\"}}\n",
            "{\"e\":\"kline\",\"E\":1626814600569,\"s\":\"BTCUSDT\",\"k\":{\"t\":1626814560000,\"T\":1626814619999,\"s\":\"BTCUSDT\",\"i\":\"1m\",\"f\":961669270,\"L\":961669548,\"o\":\"29854.89000000\",\"c\":\"29866.20000000\",\"h\":\"29873.49000000\",\"l\":\"29854.89000000\",\"v\":\"11.72238300\",\"n\":279,\"x\":false,\"q\":\"350070.31466523\",\"V\":\"8.04258100\",\"Q\":\"240184.71995680\",\"B\":\"0\"}}\n",
            "{\"e\":\"kline\",\"E\":1626814602660,\"s\":\"BTCUSDT\",\"k\":{\"t\":1626814560000,\"T\":1626814619999,\"s\":\"BTCUSDT\",\"i\":\"1m\",\"f\":961669270,\"L\":961669553,\"o\":\"29854.89000000\",\"c\":\"29866.21000000\",\"h\":\"29873.49000000\",\"l\":\"29854.89000000\",\"v\":\"11.80399500\",\"n\":284,\"x\":false,\"q\":\"352507.75557066\",\"V\":\"8.10168400\",\"Q\":\"241949.90256643\",\"B\":\"0\"}}\n"
          ]
        },
        {
          "output_type": "execute_result",
          "data": {
            "text/plain": [
              "False"
            ]
          },
          "metadata": {},
          "execution_count": 8
        }
      ]
    },
    {
      "cell_type": "code",
      "metadata": {
        "id": "c5HEl9i2VdI-"
      },
      "source": [
        "closes, highs, lows = [], [], []"
      ],
      "execution_count": 6,
      "outputs": []
    },
    {
      "cell_type": "code",
      "metadata": {
        "id": "DVi1OqohTMN9"
      },
      "source": [
        "# making candlesticks\n",
        "\n",
        "def on_message(ws, message):\n",
        "    json_message = json.loads(message)\n",
        "    candle = json_message['k']\n",
        "    is_candle_closed = candle['x']\n",
        "    close = candle['c']\n",
        "    high = candle['h']\n",
        "    low = candle['l']\n",
        "    vol = candle['v']\n",
        "\n",
        "    if is_candle_closed:\n",
        "      closes.append(float(close))\n",
        "      highs.append(float(high))\n",
        "      lows.append(float(low))\n",
        "\n",
        "      print(closes)\n",
        "      print(highs)\n",
        "      print(lows)\n",
        "\n",
        "\n",
        "def on_close(ws):\n",
        "    print(\"Connection Closed\")\n",
        "\n",
        "ws = websocket.WebSocketApp(socket,on_message = on_message, on_close = on_close)"
      ],
      "execution_count": 14,
      "outputs": []
    },
    {
      "cell_type": "code",
      "metadata": {
        "colab": {
          "base_uri": "https://localhost:8080/"
        },
        "id": "LUaBsNyuVUgq",
        "outputId": "b24f1859-caa2-4d5d-d31f-b8b279f0e23c"
      },
      "source": [
        "ws.run_forever()"
      ],
      "execution_count": 15,
      "outputs": [
        {
          "output_type": "stream",
          "name": "stdout",
          "text": [
            "[29769.21, 29734.75, 29649.14]\n",
            "[29850.11, 29863.72, 29890.0]\n",
            "[29570.18, 29651.76, 29635.33]\n",
            "[29769.21, 29734.75, 29649.14, 29822.46]\n",
            "[29850.11, 29863.72, 29890.0, 29899.99]\n",
            "[29570.18, 29651.76, 29635.33, 29644.08]\n"
          ]
        },
        {
          "output_type": "execute_result",
          "data": {
            "text/plain": [
              "False"
            ]
          },
          "metadata": {},
          "execution_count": 15
        }
      ]
    },
    {
      "cell_type": "code",
      "execution_count": 12,
      "metadata": {},
      "outputs": [],
      "source": []
    },
    {
      "cell_type": "code",
      "metadata": {
        "id": "u8XCIPVhVVkQ"
      },
      "source": [],
      "execution_count": null,
      "outputs": []
    }
  ]
}