{
  "nbformat": 4,
  "nbformat_minor": 0,
  "metadata": {
    "colab": {
      "name": "Websocket Binance.ipynb",
      "provenance": [],
      "collapsed_sections": []
    },
    "kernelspec": {
      "name": "python385jvsc74a57bd0827cf88807b883d6c5761675790e13e4fa4fc74c8d0925cc7b57ea65e415eb4c",
      "display_name": "Python 3.8.5 64-bit ('base': conda)"
    },
    "language_info": {
      "name": "python",
      "version": "3.8.5"
    }
  },
  "cells": [
    {
      "cell_type": "code",
      "metadata": {
        "colab": {
          "base_uri": "https://localhost:8080/"
        },
        "id": "DZ7j-y67RQUL",
        "outputId": "be3d2225-c854-4dc9-c803-cea99ce58fc9"
      },
      "source": [
        "pip install websocket-client"
      ],
      "execution_count": 1,
      "outputs": [
        {
          "output_type": "stream",
          "name": "stdout",
          "text": [
            "Requirement already satisfied: websocket-client in a:\\anaconda.python\\lib\\site-packages (1.1.0)Note: you may need to restart the kernel to use updated packages.\n",
            "\n",
            "WARNING: Ignoring invalid distribution -ip (a:\\anaconda.python\\lib\\site-packages)\n",
            "WARNING: Ignoring invalid distribution -ip (a:\\anaconda.python\\lib\\site-packages)\n",
            "WARNING: Ignoring invalid distribution -ip (a:\\anaconda.python\\lib\\site-packages)\n",
            "WARNING: Ignoring invalid distribution -ip (a:\\anaconda.python\\lib\\site-packages)\n",
            "WARNING: Ignoring invalid distribution -ip (a:\\anaconda.python\\lib\\site-packages)\n",
            "WARNING: Ignoring invalid distribution -ip (a:\\anaconda.python\\lib\\site-packages)\n"
          ]
        }
      ]
    },
    {
      "cell_type": "code",
      "metadata": {
        "id": "5if0fN5hRYfO"
      },
      "source": [
        "import websocket, json"
      ],
      "execution_count": 2,
      "outputs": []
    },
    {
      "cell_type": "code",
      "metadata": {
        "id": "NjmJvV02Rqss"
      },
      "source": [
        "cc = 'btcusd'\n",
        "interval = '1m'\n",
        "\n",
        "socket = f'wss://stream.binance.com:9443/ws/{cc}t@kline_{interval}'"
      ],
      "execution_count": 3,
      "outputs": []
    },
    {
      "cell_type": "code",
      "metadata": {
        "colab": {
          "base_uri": "https://localhost:8080/",
          "height": 35
        },
        "id": "Cn1gAi_YSmKz",
        "outputId": "cbc03b1d-422c-432a-e3a7-124b07e10310"
      },
      "source": [
        "socket"
      ],
      "execution_count": 4,
      "outputs": [
        {
          "output_type": "execute_result",
          "data": {
            "text/plain": [
              "'wss://stream.binance.com:9443/ws/btcusdt@kline_1m'"
            ]
          },
          "metadata": {},
          "execution_count": 4
        }
      ]
    },
    {
      "cell_type": "code",
      "metadata": {
        "id": "3Nm9aNKCSoOo"
      },
      "source": [
        "def on_message(ws, message):\n",
        "    print(message)\n",
        "\n",
        "def on_close(ws):\n",
        "    print(\"Connection Closed\")\n",
        "\n",
        "\n",
        "ws = websocket.WebSocketApp(socket,on_message = on_message, on_close = on_close)"
      ],
      "execution_count": 5,
      "outputs": []
    },
    {
      "cell_type": "code",
      "metadata": {
        "colab": {
          "base_uri": "https://localhost:8080/"
        },
        "id": "m68TRIqlTITg",
        "outputId": "4d97ef31-5d57-457e-8163-d02604bf8f1e"
      },
      "source": [
        "ws.run_forever()"
      ],
      "execution_count": 17,
      "outputs": [
        {
          "output_type": "stream",
          "name": "stdout",
          "text": [
            "[29769.21, 29734.75, 29649.14, 29822.46, 33720.32, 33612.69]\n[29850.11, 29863.72, 29890.0, 29899.99, 33725.93, 33687.53]\n[29570.18, 29651.76, 29635.33, 29644.08, 33689.0, 33600.17]\n"
          ]
        },
        {
          "output_type": "execute_result",
          "data": {
            "text/plain": [
              "False"
            ]
          },
          "metadata": {},
          "execution_count": 17
        }
      ]
    },
    {
      "cell_type": "code",
      "metadata": {
        "id": "c5HEl9i2VdI-"
      },
      "source": [
        "closes, highs, lows = [], [], []"
      ],
      "execution_count": 6,
      "outputs": []
    },
    {
      "cell_type": "code",
      "metadata": {
        "id": "DVi1OqohTMN9"
      },
      "source": [
        "# making candlesticks\n",
        "\n",
        "def on_message(ws, message):\n",
        "    json_message = json.loads(message)\n",
        "    candle = json_message['k']\n",
        "    is_candle_closed = candle['x']\n",
        "    close = candle['c']\n",
        "    high = candle['h']\n",
        "    low = candle['l']\n",
        "    vol = candle['v']\n",
        "\n",
        "    if is_candle_closed:\n",
        "      closes.append(float(close))\n",
        "      highs.append(float(high))\n",
        "      lows.append(float(low))\n",
        "\n",
        "      print(closes)\n",
        "      print(highs)\n",
        "      print(lows)\n",
        "\n",
        "\n",
        "def on_close(ws):\n",
        "    print(\"Connection Closed\")\n",
        "\n",
        "ws = websocket.WebSocketApp(socket,on_message = on_message, on_close = on_close)"
      ],
      "execution_count": 14,
      "outputs": []
    },
    {
      "cell_type": "code",
      "metadata": {
        "colab": {
          "base_uri": "https://localhost:8080/"
        },
        "id": "LUaBsNyuVUgq",
        "outputId": "b24f1859-caa2-4d5d-d31f-b8b279f0e23c"
      },
      "source": [
        "ws.run_forever()"
      ],
      "execution_count": 15,
      "outputs": [
        {
          "output_type": "stream",
          "name": "stdout",
          "text": [
            "[29769.21, 29734.75, 29649.14]\n",
            "[29850.11, 29863.72, 29890.0]\n",
            "[29570.18, 29651.76, 29635.33]\n",
            "[29769.21, 29734.75, 29649.14, 29822.46]\n",
            "[29850.11, 29863.72, 29890.0, 29899.99]\n",
            "[29570.18, 29651.76, 29635.33, 29644.08]\n"
          ]
        },
        {
          "output_type": "execute_result",
          "data": {
            "text/plain": [
              "False"
            ]
          },
          "metadata": {},
          "execution_count": 15
        }
      ]
    },
    {
      "cell_type": "code",
      "execution_count": 12,
      "metadata": {},
      "outputs": [],
      "source": []
    },
    {
      "cell_type": "code",
      "metadata": {
        "id": "u8XCIPVhVVkQ"
      },
      "source": [],
      "execution_count": null,
      "outputs": []
    }
  ]
}
