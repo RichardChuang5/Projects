{
 "cells": [
  {
   "cell_type": "code",
   "execution_count": 1,
   "metadata": {
    "cell_status": {
     "execute_time": {
      "duration": 754.364013671875,
      "end_time": 1631054331502.921
     }
    },
    "collapsed": false,
    "deletable": true,
    "editable": true
   },
   "outputs": [
    {
     "name": "stdout",
     "output_type": "stream",
     "text": [
      "Starting Spark application\n"
     ]
    },
    {
     "data": {
      "text/html": [
       "<table>\n",
       "<tr><th>ID</th><th>YARN Application ID</th><th>Kind</th><th>State</th><th>Spark UI</th><th>Driver log</th><th>Current session?</th></tr><tr><td>69</td><td>application_1628529429212_0073</td><td>pyspark3</td><td>idle</td><td><a target=\"_blank\" href=\"http://hn1-guided.quamnvr1jr2efhmihekrfcv21d.bx.internal.cloudapp.net:8088/proxy/application_1628529429212_0073/\">Link</a></td><td><a target=\"_blank\" href=\"http://wn3-guided.quamnvr1jr2efhmihekrfcv21d.bx.internal.cloudapp.net:30060/node/containerlogs/container_1628529429212_0073_01_000001/livy\">Link</a></td><td>✔</td></tr></table>"
      ],
      "text/plain": [
       "<IPython.core.display.HTML object>"
      ]
     },
     "metadata": {},
     "output_type": "display_data"
    },
    {
     "name": "stdout",
     "output_type": "stream",
     "text": [
      "SparkSession available as 'spark'.\n"
     ]
    }
   ],
   "source": [
    "from pyspark.sql import SparkSession, SQLContext\n",
    "from pyspark.sql.types import StructType, StructField, StringType, IntegerType, DecimalType\n",
    "from pyspark.sql import functions\n",
    "import json, decimal\n",
    "\n",
    "spark = SparkSession.builder.master(\"local\").appName(\"app\").getOrCreate()"
   ]
  },
  {
   "cell_type": "code",
   "execution_count": 2,
   "metadata": {
    "cell_status": {
     "execute_time": {
      "duration": 41.18798828125,
      "end_time": 1631054331557.672
     }
    },
    "collapsed": true,
    "deletable": true,
    "editable": true
   },
   "outputs": [],
   "source": [
    "# conf.set is used to input your key value pairs.\n",
    "spark.conf.set(\n",
    "\"fs.azure.account.key.adfrcdevstorage.blob.core.windows.net\",\n",
    "\"xrbJuOZpG1+WGZk2yJhbNbaIjB+adtF6d8BN+3xLnYMEDtwA+B3fzi44qPaPNpr8OJgzFXehzBQFC4/ZqX6vCQ==\"\n",
    ")\n",
    "\n",
    "# Define the location of our csv and json folders created in step 2\n",
    "csv_folder_8_05 = 'wasbs://guidedcapstone-2021-08-09t17-05-44-969z@guidedcapstonhdistorage.blob.core.windows.net/HdiNotebooks/csv_folder_8_05/partition=T'\n",
    "csv_folder_8_06 = 'wasbs://guidedcapstone-2021-08-09t17-05-44-969z@guidedcapstonhdistorage.blob.core.windows.net/HdiNotebooks/csv_folder_8_06/partition=T'\n",
    "\n",
    "json_folder_8_05 = 'wasbs://guidedcapstone-2021-08-09t17-05-44-969z@guidedcapstonhdistorage.blob.core.windows.net/HdiNotebooks/json_folder_8_05/partition=T'\n",
    "json_folder_8_06 = 'wasbs://guidedcapstone-2021-08-09t17-05-44-969z@guidedcapstonhdistorage.blob.core.windows.net/HdiNotebooks/json_folder_8_06/partition=T'\n"
   ]
  },
  {
   "cell_type": "code",
   "execution_count": 7,
   "metadata": {
    "cell_status": {
     "execute_time": {
      "duration": 3281.59716796875,
      "end_time": 1631054401227.86
     }
    },
    "collapsed": false,
    "deletable": true,
    "editable": true
   },
   "outputs": [
    {
     "name": "stdout",
     "output_type": "stream",
     "text": [
      "+----------+--------------------+--------+------+--------------------+------------+-------------+------+--------+------+--------+\n",
      "|  trade_dt|          arrival_tm|rec_type|symbol|            event_tm|event_seq_nb|trade_pr/exch|bid_pr|bid_size|ask_pr|ask_size|\n",
      "+----------+--------------------+--------+------+--------------------+------------+-------------+------+--------+------+--------+\n",
      "|2020-08-06|2020-08-06 09:30:...|       T|  SYMA|2020-08-06 10:49:...|          10|         NYSE|    74|      27|  null|    null|\n",
      "|2020-08-06|2020-08-06 09:30:...|       T|  SYMA|2020-08-06 12:00:...|          20|         NYSE|    76|     315|  null|    null|\n",
      "|2020-08-06|2020-08-06 09:30:...|       T|  SYMA|2020-08-06 13:11:...|          30|         NYSE|    77|     755|  null|    null|\n",
      "|2020-08-06|2020-08-06 09:30:...|       T|  SYMA|2020-08-06 14:27:...|          40|         NYSE|    77|      81|  null|    null|\n",
      "|2020-08-06|2020-08-06 09:30:...|       T|  SYMA|2020-08-06 15:39:...|          50|         NYSE|    76|     744|  null|    null|\n",
      "+----------+--------------------+--------+------+--------------------+------------+-------------+------+--------+------+--------+\n",
      "only showing top 5 rows\n",
      "\n",
      "+----------+--------------------+--------+------+--------------------+------------+-------------+------+--------+------+--------+\n",
      "|  trade_dt|          arrival_tm|rec_type|symbol|            event_tm|event_seq_nb|trade_pr/exch|bid_pr|bid_size|ask_pr|ask_size|\n",
      "+----------+--------------------+--------+------+--------------------+------------+-------------+------+--------+------+--------+\n",
      "|2020-08-06|2020-08-06 09:30:...|       T|  SYMB|2020-08-06 16:57:...|          60|         NYSE|    33|     773|  null|    null|\n",
      "|2020-08-06|2020-08-06 09:30:...|       T|  SYMB|2020-08-06 18:06:...|          70|         NYSE|    34|     578|  null|    null|\n",
      "|2020-08-06|2020-08-06 09:30:...|       T|  SYMB|2020-08-06 19:21:...|          80|         NYSE|    33|     718|  null|    null|\n",
      "|2020-08-06|2020-08-06 09:30:...|       T|  SYMB|2020-08-06 20:36:...|          90|         NYSE|    33|     220|  null|    null|\n",
      "|2020-08-06|2020-08-06 09:30:...|       T|  SYMB|2020-08-06 21:46:...|         100|         NYSE|    36|     741|  null|    null|\n",
      "+----------+--------------------+--------+------+--------------------+------------+-------------+------+--------+------+--------+\n",
      "only showing top 5 rows"
     ]
    }
   ],
   "source": [
    "test1= spark.read.parquet('wasbs://guidedcapstone-2021-08-09t17-05-44-969z@guidedcapstonhdistorage.blob.core.windows.net/HdiNotebooks/csv_folder/partition=T/part-00000-cfdf3cfc-e3d7-4f4e-afdd-428cfc82e54c.c000.snappy.parquet')\n",
    "test1.show(5)\n",
    "test2 = spark.read.parquet('wasbs://guidedcapstone-2021-08-09t17-05-44-969z@guidedcapstonhdistorage.blob.core.windows.net/HdiNotebooks/csv_folder/partition=T/part-00001-cfdf3cfc-e3d7-4f4e-afdd-428cfc82e54c.c000.snappy.parquet')\n",
    "test2.show(5)\n",
    "trade_common_csv_8_05 = spark.read.parquet(csv_folder_8_05)\n",
    "trade_common_csv_8_06 = spark.read.parquet(csv_folder_8_06)\n",
    "trade_common_json_8_05 = spark.read.parquet(json_folder_8_05)\n",
    "trade_common_json_8_06 = spark.read.parquet(json_folder_8_06)\n"
   ]
  },
  {
   "cell_type": "code",
   "execution_count": 11,
   "metadata": {
    "cell_status": {
     "execute_time": {
      "duration": 2264.43408203125,
      "end_time": 1631054613693.422
     }
    },
    "collapsed": false,
    "deletable": true,
    "editable": true
   },
   "outputs": [
    {
     "name": "stdout",
     "output_type": "stream",
     "text": [
      "+----------+--------------------+--------+------+--------------------+------------+--------+------+--------+------+--------+\n",
      "|  trade_dt|          arrival_tm|rec_type|symbol|            event_tm|event_seq_nb|exchange|bid_pr|bid_size|ask_pr|ask_size|\n",
      "+----------+--------------------+--------+------+--------------------+------------+--------+------+--------+------+--------+\n",
      "|2020-08-05|2020-08-05 09:30:...|       T|  SYMA|2020-08-05 10:37:...|          10|    NYSE|    79|     912|  null|    null|\n",
      "|2020-08-05|2020-08-05 09:30:...|       T|  SYMA|2020-08-05 11:56:...|          20|    NYSE|    76|     962|  null|    null|\n",
      "|2020-08-05|2020-08-05 09:30:...|       T|  SYMA|2020-08-05 13:09:...|          30|    NYSE|    75|     191|  null|    null|\n",
      "|2020-08-05|2020-08-05 09:30:...|       T|  SYMA|2020-08-05 14:24:...|          40|    NYSE|    78|      53|  null|    null|\n",
      "|2020-08-05|2020-08-05 09:30:...|       T|  SYMA|2020-08-05 15:31:...|          50|    NYSE|    78|     179|  null|    null|\n",
      "+----------+--------------------+--------+------+--------------------+------------+--------+------+--------+------+--------+\n",
      "only showing top 5 rows\n",
      "\n",
      "+----------+--------------------+--------+------+--------------------+------------+--------+------+--------+------+--------+\n",
      "|  trade_dt|          arrival_tm|rec_type|symbol|            event_tm|event_seq_nb|exchange|bid_pr|bid_size|ask_pr|ask_size|\n",
      "+----------+--------------------+--------+------+--------------------+------------+--------+------+--------+------+--------+\n",
      "|2020-08-06|2020-08-06 09:30:...|       T|  SYMA|2020-08-06 10:42:...|          10|  NASDAQ|  null|    null|    79|     368|\n",
      "|2020-08-06|2020-08-06 09:30:...|       T|  SYMA|2020-08-06 12:00:...|          20|  NASDAQ|  null|    null|    77|      51|\n",
      "|2020-08-06|2020-08-06 09:30:...|       T|  SYMA|2020-08-06 13:09:...|          30|  NASDAQ|  null|    null|    78|     213|\n",
      "|2020-08-06|2020-08-06 09:30:...|       T|  SYMA|2020-08-06 14:27:...|          40|  NASDAQ|  null|    null|    76|     330|\n",
      "|2020-08-06|2020-08-06 09:30:...|       T|  SYMA|2020-08-06 15:39:...|          50|  NASDAQ|  null|    null|    78|     291|\n",
      "+----------+--------------------+--------+------+--------------------+------------+--------+------+--------+------+--------+\n",
      "only showing top 5 rows"
     ]
    }
   ],
   "source": [
    "from pyspark.sql.functions import col\n",
    "trade_csv_8_05 = trade_common_csv_8_05.select('trade_dt', 'arrival_tm', 'rec_type', 'symbol', 'event_tm', 'event_seq_nb',\n",
    "                                             col('trade_pr/exch').alias('exchange'), 'bid_pr', 'bid_size', 'ask_pr',\n",
    "                                             'ask_size')\n",
    "trade_csv_8_06 = trade_common_csv_8_06.select('trade_dt', 'arrival_tm', 'rec_type', 'symbol', 'event_tm', 'event_seq_nb',\n",
    "                                             col('trade_pr/exch').alias('exchange'), 'bid_pr', 'bid_size', 'ask_pr',\n",
    "                                             'ask_size')\n",
    "trade_csv_8_05.show(5)\n",
    "trade_json_8_05 = trade_common_json_8_05.select('trade_dt', 'arrival_tm', 'rec_type', 'symbol', 'event_tm', 'event_seq_nb',\n",
    "                                             col('trade_pr/exch').alias('exchange'), 'bid_pr', 'bid_size', 'ask_pr',\n",
    "                                             'ask_size')\n",
    "trade_json_8_06 = trade_common_json_8_06.select('trade_dt', 'arrival_tm', 'rec_type', 'symbol', 'event_tm', 'event_seq_nb',\n",
    "                                             col('trade_pr/exch').alias('exchange'), 'bid_pr', 'bid_size', 'ask_pr',\n",
    "                                             'ask_size')\n",
    "trade_json_8_06.show(5)"
   ]
  },
  {
   "cell_type": "code",
   "execution_count": 12,
   "metadata": {
    "cell_status": {
     "execute_time": {
      "duration": 7306.885986328125,
      "end_time": 1631054717710.729
     }
    },
    "collapsed": false,
    "deletable": true,
    "editable": true
   },
   "outputs": [
    {
     "name": "stdout",
     "output_type": "stream",
     "text": [
      "+----------+------+--------+--------------------+------------+------+--------+------+--------+--------------------+\n",
      "|  trade_dt|Symbol|exchange|            event_tm|event_seq_nb|bid_pr|bid_size|ask_pr|ask_size|    max_arrival_time|\n",
      "+----------+------+--------+--------------------+------------+------+--------+------+--------+--------------------+\n",
      "|2020-08-05|  SYMB|    NYSE|2020-08-05 13:10:...|          30|    34|     897|  null|    null|2020-08-05 09:30:...|\n",
      "|2020-08-05|  SYMC|    NYSE|2020-08-05 10:44:...|          10|   161|     836|  null|    null|2020-08-05 09:30:...|\n",
      "|2020-08-05|  SYMC|    NYSE|2020-08-05 21:52:...|         100|   161|     312|  null|    null|2020-08-05 09:30:...|\n",
      "|2020-08-05|  SYMA|    NYSE|2020-08-05 15:31:...|          50|    78|     179|  null|    null|2020-08-05 09:30:...|\n",
      "|2020-08-05|  SYMA|    NYSE|2020-08-05 11:56:...|          20|    76|     962|  null|    null|2020-08-05 09:30:...|\n",
      "|2020-08-05|  SYMA|    NYSE|2020-08-05 16:37:...|          60|    79|     510|  null|    null|2020-08-05 09:30:...|\n",
      "|2020-08-05|  SYMA|    NYSE|2020-08-05 19:04:...|          80|    75|     415|  null|    null|2020-08-05 09:30:...|\n",
      "|2020-08-05|  SYMC|    NYSE|2020-08-05 15:48:...|          50|   159|     450|  null|    null|2020-08-05 09:30:...|\n",
      "|2020-08-05|  SYMA|    NYSE|2020-08-05 14:24:...|          40|    78|      53|  null|    null|2020-08-05 09:30:...|\n",
      "|2020-08-05|  SYMB|    NYSE|2020-08-05 21:27:...|         100|    34|     369|  null|    null|2020-08-05 09:30:...|\n",
      "|2020-08-05|  SYMA|    NYSE|2020-08-05 20:21:...|          90|    75|      57|  null|    null|2020-08-05 09:30:...|\n",
      "|2020-08-05|  SYMB|    NYSE|2020-08-05 19:08:...|          80|    34|     548|  null|    null|2020-08-05 09:30:...|\n",
      "|2020-08-05|  SYMB|    NYSE|2020-08-05 14:26:...|          40|    37|     370|  null|    null|2020-08-05 09:30:...|\n",
      "|2020-08-05|  SYMC|    NYSE|2020-08-05 20:48:...|          90|   160|     692|  null|    null|2020-08-05 09:30:...|\n",
      "|2020-08-05|  SYMA|    NYSE|2020-08-05 13:09:...|          30|    75|     191|  null|    null|2020-08-05 09:30:...|\n",
      "|2020-08-05|  SYMC|    NYSE|2020-08-05 17:01:...|          60|   161|     899|  null|    null|2020-08-05 09:30:...|\n",
      "|2020-08-05|  SYMA|    NYSE|2020-08-05 17:49:...|          70|    77|     985|  null|    null|2020-08-05 09:30:...|\n",
      "|2020-08-05|  SYMC|    NYSE|2020-08-05 13:10:...|          30|   157|    1000|  null|    null|2020-08-05 09:30:...|\n",
      "|2020-08-05|  SYMB|    NYSE|2020-08-05 16:48:...|          60|    36|     371|  null|    null|2020-08-05 09:30:...|\n",
      "|2020-08-05|  SYMB|    NYSE|2020-08-05 12:02:...|          20|    33|     888|  null|    null|2020-08-05 09:30:...|\n",
      "+----------+------+--------+--------------------+------------+------+--------+------+--------+--------------------+\n",
      "only showing top 20 rows\n",
      "\n",
      "+----------+------+--------+--------------------+------------+------+--------+------+--------+--------------------+\n",
      "|  trade_dt|Symbol|exchange|            event_tm|event_seq_nb|bid_pr|bid_size|ask_pr|ask_size|    max_arrival_time|\n",
      "+----------+------+--------+--------------------+------------+------+--------+------+--------+--------------------+\n",
      "|2020-08-06|  SYMB|  NASDAQ|2020-08-06 12:01:...|          20|  null|    null|    32|     311|2020-08-06 09:30:...|\n",
      "|2020-08-06|  SYMA|  NASDAQ|2020-08-06 21:33:...|         100|  null|    null|    77|     125|2020-08-06 09:30:...|\n",
      "|2020-08-06|  SYMA|  NASDAQ|2020-08-06 14:27:...|          40|  null|    null|    76|     330|2020-08-06 09:30:...|\n",
      "|2020-08-06|  SYMC|  NASDAQ|2020-08-06 18:59:...|          80|  null|    null|   159|     199|2020-08-06 09:30:...|\n",
      "|2020-08-06|  SYMB|  NASDAQ|2020-08-06 14:15:...|          40|  null|    null|    32|     155|2020-08-06 09:30:...|\n",
      "|2020-08-06|  SYMA|  NASDAQ|2020-08-06 13:09:...|          30|  null|    null|    78|     213|2020-08-06 09:30:...|\n",
      "|2020-08-06|  SYMA|  NASDAQ|2020-08-06 10:42:...|          10|  null|    null|    79|     368|2020-08-06 09:30:...|\n",
      "|2020-08-06|  SYMA|  NASDAQ|2020-08-06 19:09:...|          80|  null|    null|    79|     307|2020-08-06 09:30:...|\n",
      "|2020-08-06|  SYMC|  NASDAQ|2020-08-06 15:30:...|          50|  null|    null|   161|     652|2020-08-06 09:30:...|\n",
      "|2020-08-06|  SYMC|  NASDAQ|2020-08-06 16:45:...|          60|  null|    null|   159|     154|2020-08-06 09:30:...|\n",
      "|2020-08-06|  SYMB|  NASDAQ|2020-08-06 20:07:...|          90|  null|    null|    36|     546|2020-08-06 09:30:...|\n",
      "|2020-08-06|  SYMB|  NASDAQ|2020-08-06 17:38:...|          70|  null|    null|    36|     282|2020-08-06 09:30:...|\n",
      "|2020-08-06|  SYMB|  NASDAQ|2020-08-06 21:10:...|         100|  null|    null|    36|     461|2020-08-06 09:30:...|\n",
      "|2020-08-06|  SYMA|  NASDAQ|2020-08-06 20:23:...|          90|  null|    null|    78|     786|2020-08-06 09:30:...|\n",
      "|2020-08-06|  SYMA|  NASDAQ|2020-08-06 12:00:...|          20|  null|    null|    77|      51|2020-08-06 09:30:...|\n",
      "|2020-08-06|  SYMC|  NASDAQ|2020-08-06 14:15:...|          40|  null|    null|   157|      62|2020-08-06 09:30:...|\n",
      "|2020-08-06|  SYMA|  NASDAQ|2020-08-06 18:01:...|          70|  null|    null|    77|     848|2020-08-06 09:30:...|\n",
      "|2020-08-06|  SYMB|  NASDAQ|2020-08-06 10:47:...|          10|  null|    null|    32|     214|2020-08-06 09:30:...|\n",
      "|2020-08-06|  SYMA|  NASDAQ|2020-08-06 15:39:...|          50|  null|    null|    78|     291|2020-08-06 09:30:...|\n",
      "|2020-08-06|  SYMC|  NASDAQ|2020-08-06 17:51:...|          70|  null|    null|   161|     294|2020-08-06 09:30:...|\n",
      "+----------+------+--------+--------------------+------------+------+--------+------+--------+--------------------+\n",
      "only showing top 20 rows"
     ]
    }
   ],
   "source": [
    "def applyLatest(item):\n",
    "    recent_trade = item.groupBy('trade_dt','Symbol','exchange', 'event_tm', 'event_seq_nb', 'bid_pr', 'bid_size', 'ask_pr',\n",
    "                               'ask_size').agg(functions.max('arrival_tm').alias('max_arrival_time'))\n",
    "    return recent_trade\n",
    "\n",
    "trade_corrected_csv_8_05 = applyLatest(trade_csv_8_05)\n",
    "trade_corrected_csv_8_06 = applyLatest(trade_csv_8_06)\n",
    "quote_corrected_json_8_05 = applyLatest(trade_json_8_05)\n",
    "quote_corrected_json_8_06 = applyLatest(trade_json_8_06)\n",
    "trade_corrected_csv_8_05.show()\n",
    "quote_corrected_json_8_06.show()"
   ]
  },
  {
   "cell_type": "code",
   "execution_count": 14,
   "metadata": {
    "cell_status": {
     "execute_time": {
      "duration": 15374.196044921875,
      "end_time": 1631054957434.535
     }
    },
    "collapsed": false,
    "deletable": true,
    "editable": true
   },
   "outputs": [],
   "source": [
    "# To save the files in our HDI cluster\n",
    "\n",
    "trade_date1 = '2020-08-05'\n",
    "trade_date2 = '2020-08-06'\n",
    "trade_corrected_csv_8_05.write.parquet(\"wasbs://guidedcapstone-2021-08-09t17-05-44-969z@guidedcapstonhdistorage.blob.core.windows.net/HdiNotebooks/trade3/trade_dt={}\".format(trade_date1))\n",
    "trade_corrected_csv_8_06.write.parquet(\"wasbs://guidedcapstone-2021-08-09t17-05-44-969z@guidedcapstonhdistorage.blob.core.windows.net/HdiNotebooks/trade3/trade_dt={}\".format(trade_date2))\n",
    "quote_corrected_json_8_05.write.parquet(\"wasbs://guidedcapstone-2021-08-09t17-05-44-969z@guidedcapstonhdistorage.blob.core.windows.net/HdiNotebooks/trade3/quote_dt={}\".format(trade_date1))\n",
    "quote_corrected_json_8_06.write.parquet(\"wasbs://guidedcapstone-2021-08-09t17-05-44-969z@guidedcapstonhdistorage.blob.core.windows.net/HdiNotebooks/trade3/quote_dt={}\".format(trade_date2))"
   ]
  },
  {
   "cell_type": "code",
   "execution_count": null,
   "metadata": {
    "collapsed": true,
    "deletable": true,
    "editable": true
   },
   "outputs": [],
   "source": []
  },
  {
   "cell_type": "code",
   "execution_count": null,
   "metadata": {
    "collapsed": true,
    "deletable": true,
    "editable": true
   },
   "outputs": [],
   "source": []
  }
 ],
 "metadata": {
  "kernelspec": {
   "display_name": "PySpark3",
   "language": "",
   "name": "pyspark3kernel"
  },
  "language_info": {
   "codemirror_mode": {
    "name": "python",
    "version": 3
   },
   "mimetype": "text/x-python",
   "name": "pyspark3",
   "pygments_lexer": "python3"
  }
 },
 "nbformat": 4,
 "nbformat_minor": 2
}